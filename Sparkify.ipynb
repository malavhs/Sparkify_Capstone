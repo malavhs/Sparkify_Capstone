{
 "cells": [
  {
   "cell_type": "markdown",
   "metadata": {},
   "source": [
    "# Sparkify Project Workspace\n",
    "This workspace contains a tiny subset (128MB) of the full dataset available (12GB). Feel free to use this workspace to build your project, or to explore a smaller subset with Spark before deploying your cluster on the cloud. Instructions for setting up your Spark cluster is included in the last lesson of the Extracurricular Spark Course content.\n",
    "\n",
    "You can follow the steps below to guide your data analysis and model building portion of this project."
   ]
  },
  {
   "cell_type": "code",
   "execution_count": 1,
   "metadata": {},
   "outputs": [],
   "source": [
    "# import libraries\n",
    "from pyspark.sql import SparkSession\n",
    "from pyspark.sql.functions import udf, isnan, when, count, col,trim\n",
    "from pyspark.sql.types import StringType\n",
    "from pyspark.sql.types import IntegerType\n",
    "from pyspark.sql.functions import desc\n",
    "from pyspark.sql.functions import asc\n",
    "from pyspark.sql.functions import sum as Fsum\n",
    "from tabulate import tabulate\n",
    "import datetime\n",
    "import pyspark\n",
    "import seaborn as sns\n",
    "import numpy as np\n",
    "import pandas as pd\n",
    "import matplotlib.pyplot as plt\n",
    "from pyspark.sql import functions as f\n",
    "from pyspark.sql.functions import from_unixtime, countDistinct, avg, max, min, date_format, unix_timestamp, dayofweek\n",
    "from pyspark.sql import Window\n",
    "from pyspark.sql import types\n",
    "from pyspark.ml import Pipeline, PipelineModel\n",
    "from pyspark.ml.feature import Imputer, StringIndexer, StringIndexerModel, OneHotEncoder, VectorAssembler, MinMaxScaler\n",
    "from pyspark.ml.feature import StandardScaler, OneHotEncoderModel\n",
    "from pyspark.ml.feature import StringIndexer\n",
    "import threading\n",
    "from pyspark.ml.classification import GBTClassifier, RandomForestClassifier\n",
    "from pyspark.ml.tuning import ParamGridBuilder, CrossValidator\n",
    "from pyspark.ml.evaluation import BinaryClassificationEvaluator\n",
    "from pyspark.mllib.evaluation import MulticlassMetrics"
   ]
  },
  {
   "cell_type": "code",
   "execution_count": 2,
   "metadata": {},
   "outputs": [],
   "source": [
    "# create a Spark session\n",
    "spark = SparkSession \\\n",
    "    .builder \\\n",
    "    .appName(\"Sparkify\") \\\n",
    "    .getOrCreate()"
   ]
  },
  {
   "cell_type": "markdown",
   "metadata": {},
   "source": [
    "# Load and Clean Dataset\n",
    "In this workspace, the mini-dataset file is `mini_sparkify_event_data.json`. Load and clean the dataset, checking for invalid or missing data - for example, records without userids or sessionids. "
   ]
  },
  {
   "cell_type": "code",
   "execution_count": 3,
   "metadata": {},
   "outputs": [],
   "source": [
    "# Read in the dataset\n",
    "path = \"mini_sparkify_event_data.json\"\n",
    "df = spark.read.json(path)"
   ]
  },
  {
   "cell_type": "code",
   "execution_count": 4,
   "metadata": {},
   "outputs": [
    {
     "name": "stdout",
     "output_type": "stream",
     "text": [
      "root\n",
      " |-- artist: string (nullable = true)\n",
      " |-- auth: string (nullable = true)\n",
      " |-- firstName: string (nullable = true)\n",
      " |-- gender: string (nullable = true)\n",
      " |-- itemInSession: long (nullable = true)\n",
      " |-- lastName: string (nullable = true)\n",
      " |-- length: double (nullable = true)\n",
      " |-- level: string (nullable = true)\n",
      " |-- location: string (nullable = true)\n",
      " |-- method: string (nullable = true)\n",
      " |-- page: string (nullable = true)\n",
      " |-- registration: long (nullable = true)\n",
      " |-- sessionId: long (nullable = true)\n",
      " |-- song: string (nullable = true)\n",
      " |-- status: long (nullable = true)\n",
      " |-- ts: long (nullable = true)\n",
      " |-- userAgent: string (nullable = true)\n",
      " |-- userId: string (nullable = true)\n",
      "\n"
     ]
    }
   ],
   "source": [
    "# Print Schema\n",
    "df.printSchema()"
   ]
  },
  {
   "cell_type": "code",
   "execution_count": 5,
   "metadata": {},
   "outputs": [
    {
     "data": {
      "text/plain": [
       "[Row(artist='Martha Tilston', auth='Logged In', firstName='Colin', gender='M', itemInSession=50, lastName='Freeman', length=277.89016, level='paid', location='Bakersfield, CA', method='PUT', page='NextSong', registration=1538173362000, sessionId=29, song='Rockpools', status=200, ts=1538352117000, userAgent='Mozilla/5.0 (Windows NT 6.1; WOW64; rv:31.0) Gecko/20100101 Firefox/31.0', userId='30')]"
      ]
     },
     "execution_count": 5,
     "metadata": {},
     "output_type": "execute_result"
    }
   ],
   "source": [
    "# Print first record for EDA\n",
    "df.head(1)"
   ]
  },
  {
   "cell_type": "code",
   "execution_count": 6,
   "metadata": {},
   "outputs": [],
   "source": [
    "# Remove empty User IDs\n",
    "df = df.filter(df.userId != '')"
   ]
  },
  {
   "cell_type": "code",
   "execution_count": 7,
   "metadata": {},
   "outputs": [],
   "source": [
    "def missing_perc(df, cols, nrows):\n",
    "    '''\n",
    "    INPUT:\n",
    "    df - (spark dataframe) df as defined at the top of the notebook \n",
    "    cols - (list) list of columns for which we want to check missing values\n",
    "    nrows - (int) count of number of rows in dataframe\n",
    "    \n",
    "    OUTPUT:\n",
    "    missing_df_perc - (pandas dataframe) Dataframe of number of missing values and percentages\n",
    "    '''\n",
    "    missing_df = df.select([count(when(isnan(c) | df[c].isNull() | (trim(df[c]) == ''), c)).alias(c) for c in cols])\n",
    "    missing_df_perc = spark.createDataFrame([(missing_df.columns[c], missing_df.collect()[0][c],\n",
    "                                                      round(float(missing_df.collect()[0][c]) / float(nrows) * 100, 6)) for\n",
    "                                                     c in range(len(cols))],\n",
    "                                                    [\"col_name\", \"missing_count\", \"missing_percen\"])\n",
    "    missing_df_perc = missing_df_perc.orderBy('missing_percen', ascending=False)\n",
    "    x = missing_df_perc.toPandas()\n",
    "    print(\"Missing count and percentages:\\n\" + tabulate(x, headers='keys', tablefmt='psql'))\n",
    "    return missing_df_perc"
   ]
  },
  {
   "cell_type": "code",
   "execution_count": 8,
   "metadata": {},
   "outputs": [],
   "source": [
    "# Define columns and count rows\n",
    "ids = ['firstName','lastName','song']\n",
    "cols = ['userId','auth','gender','itemInSession','length','level','location','method','page','registration','sessionId','status','ts','userAgent','userId']\n",
    "nrows = df.count()"
   ]
  },
  {
   "cell_type": "code",
   "execution_count": 9,
   "metadata": {
    "scrolled": true
   },
   "outputs": [
    {
     "name": "stdout",
     "output_type": "stream",
     "text": [
      "Missing count and percentages:\n",
      "+----+---------------+-----------------+------------------+\n",
      "|    | col_name      |   missing_count |   missing_percen |\n",
      "|----+---------------+-----------------+------------------|\n",
      "|  0 | length        |           50046 |          17.9922 |\n",
      "|  1 | userId        |               0 |           0      |\n",
      "|  2 | auth          |               0 |           0      |\n",
      "|  3 | gender        |               0 |           0      |\n",
      "|  4 | itemInSession |               0 |           0      |\n",
      "|  5 | level         |               0 |           0      |\n",
      "|  6 | location      |               0 |           0      |\n",
      "|  7 | method        |               0 |           0      |\n",
      "|  8 | page          |               0 |           0      |\n",
      "|  9 | registration  |               0 |           0      |\n",
      "| 10 | sessionId     |               0 |           0      |\n",
      "| 11 | status        |               0 |           0      |\n",
      "| 12 | ts            |               0 |           0      |\n",
      "| 13 | userAgent     |               0 |           0      |\n",
      "| 14 | userId        |               0 |           0      |\n",
      "+----+---------------+-----------------+------------------+\n"
     ]
    },
    {
     "data": {
      "text/plain": [
       "DataFrame[col_name: string, missing_count: bigint, missing_percen: double]"
      ]
     },
     "execution_count": 9,
     "metadata": {},
     "output_type": "execute_result"
    }
   ],
   "source": [
    "missing_perc(df,cols,nrows)"
   ]
  },
  {
   "cell_type": "markdown",
   "metadata": {},
   "source": [
    "# Exploratory Data Analysis\n",
    "When you're working with the full dataset, perform EDA by loading a small subset of the data and doing basic manipulations within Spark. In this workspace, you are already provided a small subset of data you can explore.\n",
    "\n",
    "### Define Churn\n",
    "\n",
    "Once you've done some preliminary analysis, create a column `Churn` to use as the label for your model. I suggest using the `Cancellation Confirmation` events to define your churn, which happen for both paid and free users. As a bonus task, you can also look into the `Downgrade` events.\n",
    "\n",
    "### Explore Data\n",
    "Once you've defined churn, perform some exploratory data analysis to observe the behavior for users who stayed vs users who churned. You can start by exploring aggregates on these two groups of users, observing how much of a specific action they experienced per a certain time unit or number of songs played."
   ]
  },
  {
   "cell_type": "code",
   "execution_count": 10,
   "metadata": {},
   "outputs": [],
   "source": [
    "# Creating 'Churn' column\n",
    "df = df.withColumn('Churn', f.when(f.col('page') == 'Cancellation Confirmation', 1).otherwise(0))"
   ]
  },
  {
   "cell_type": "code",
   "execution_count": 11,
   "metadata": {},
   "outputs": [],
   "source": [
    "# Setting up the window\n",
    "range_begin = Window.unboundedPreceding\n",
    "range_end = Window.unboundedFollowing\n",
    "window_users = Window.partitionBy(\"userId\").rangeBetween(range_begin, range_end)\n",
    "df = df.withColumn(\"Churn\",f.sum(\"Churn\").over(window_users))"
   ]
  },
  {
   "cell_type": "code",
   "execution_count": 12,
   "metadata": {},
   "outputs": [
    {
     "name": "stdout",
     "output_type": "stream",
     "text": [
      "+-----+-----+\n",
      "|Churn|count|\n",
      "+-----+-----+\n",
      "|    0|  173|\n",
      "|    1|   52|\n",
      "+-----+-----+\n",
      "\n"
     ]
    }
   ],
   "source": [
    "# Count users who churned (1) v/s those who didn't (0)\n",
    "df.select('userId','Churn').dist7inct().groupBy('Churn').count().show()"
   ]
  },
  {
   "cell_type": "code",
   "execution_count": 13,
   "metadata": {},
   "outputs": [],
   "source": [
    "#Churn w.r.t gender\n",
    "no_gender = df.select('userId','gender','Churn').distinct().groupBy('gender','Churn').count()"
   ]
  },
  {
   "cell_type": "code",
   "execution_count": 14,
   "metadata": {},
   "outputs": [
    {
     "data": {
      "image/png": "[encoded data removed]",
      "text/plain": [
       "<Figure size 402.375x360 with 1 Axes>"
      ]
     },
     "metadata": {
      "needs_background": "light"
     },
     "output_type": "display_data"
    }
   ],
   "source": [
    "sns.catplot(x = 'gender', y = 'count',hue = 'Churn', data = no_gender.toPandas(), kind = 'bar');"
   ]
  },
  {
   "cell_type": "code",
   "execution_count": 15,
   "metadata": {},
   "outputs": [],
   "source": [
    "# Churn w.r.t auth\n",
    "no_auth = df.select('userId','auth','Churn').distinct().groupBy('auth','Churn').count()"
   ]
  },
  {
   "cell_type": "code",
   "execution_count": 16,
   "metadata": {},
   "outputs": [
    {
     "data": {
      "image/png": "[encoded data removed]",
      "text/plain": [
       "<Figure size 402.375x360 with 1 Axes>"
      ]
     },
     "metadata": {
      "needs_background": "light"
     },
     "output_type": "display_data"
    }
   ],
   "source": [
    "sns.catplot(x = 'auth', y = 'count',hue = 'Churn', data = no_auth.toPandas(), kind = 'bar');"
   ]
  },
  {
   "cell_type": "markdown",
   "metadata": {},
   "source": [
    "As expected, Churned users will ofcourse not be logged in, so this attribute does not affect Churn"
   ]
  },
  {
   "cell_type": "code",
   "execution_count": 17,
   "metadata": {},
   "outputs": [],
   "source": [
    "# Churn w.r.t level\n",
    "no_level = df.select('userId','level','Churn').distinct().groupBy('level','Churn').count()"
   ]
  },
  {
   "cell_type": "code",
   "execution_count": 18,
   "metadata": {},
   "outputs": [
    {
     "data": {
      "image/png": "[encoded data removed]",
      "text/plain": [
       "<Figure size 402.375x360 with 1 Axes>"
      ]
     },
     "metadata": {
      "needs_background": "light"
     },
     "output_type": "display_data"
    }
   ],
   "source": [
    "sns.catplot(x = 'level', y = 'count',hue = 'Churn', data = no_level.toPandas(), kind = 'bar');"
   ]
  },
  {
   "cell_type": "code",
   "execution_count": 19,
   "metadata": {},
   "outputs": [],
   "source": [
    "# Split location column into city and state\n",
    "split_col = pyspark.sql.functions.split(df['location'], ',')\n",
    "df = df.withColumn('user_city',split_col.getItem(0))\n",
    "no_city = df.select('userId','user_city').distinct().groupBy('user_city').count().orderBy('count', ascending = False)\n",
    "df = df.withColumn('user_state',split_col.getItem(1))\n",
    "no_loc = df.select('userId','user_state').distinct().groupBy('user_state').count().orderBy('count', ascending = False)"
   ]
  },
  {
   "cell_type": "code",
   "execution_count": 20,
   "metadata": {},
   "outputs": [
    {
     "data": {
      "text/plain": [
       "Text(0.5, 1.0, 'Top 10 States')"
      ]
     },
     "execution_count": 20,
     "metadata": {},
     "output_type": "execute_result"
    },
    {
     "data": {
      "image/png": "[encoded data removed]",
      "text/plain": [
       "<Figure size 432x288 with 1 Axes>"
      ]
     },
     "metadata": {
      "needs_background": "light"
     },
     "output_type": "display_data"
    }
   ],
   "source": [
    "sns.barplot(x = 'user_state', y = 'count', data = no_loc.toPandas().head(10));\n",
    "plt.xticks(rotation=90)\n",
    "plt.title('Top 10 States')"
   ]
  },
  {
   "cell_type": "code",
   "execution_count": 21,
   "metadata": {},
   "outputs": [
    {
     "data": {
      "text/plain": [
       "Text(0.5, 1.0, 'Top 15 cities')"
      ]
     },
     "execution_count": 21,
     "metadata": {},
     "output_type": "execute_result"
    },
    {
     "data": {
      "image/png": "[encoded data removed]",
      "text/plain": [
       "<Figure size 432x288 with 1 Axes>"
      ]
     },
     "metadata": {
      "needs_background": "light"
     },
     "output_type": "display_data"
    }
   ],
   "source": [
    "sns.barplot(x = 'user_city', y = 'count', data = no_city.toPandas().head(15));\n",
    "plt.xticks(rotation=90)\n",
    "plt.title('Top 15 cities')"
   ]
  },
  {
   "cell_type": "code",
   "execution_count": 22,
   "metadata": {},
   "outputs": [],
   "source": [
    "# Churn w.r.t State\n",
    "state_churn = df.select('userId','user_state','Churn').distinct().groupBy('user_state','Churn').count().orderBy('user_state','count', ascending = True)"
   ]
  },
  {
   "cell_type": "code",
   "execution_count": 23,
   "metadata": {},
   "outputs": [
    {
     "data": {
      "image/png": "[encoded data removed]",
      "text/plain": [
       "<Figure size 402.375x360 with 1 Axes>"
      ]
     },
     "metadata": {
      "needs_background": "light"
     },
     "output_type": "display_data"
    }
   ],
   "source": [
    "sns.catplot(y = 'user_state', x = 'count',hue = 'Churn', data = state_churn.toPandas().head(10), kind = 'bar', orient = \"h\");\n"
   ]
  },
  {
   "cell_type": "code",
   "execution_count": 24,
   "metadata": {},
   "outputs": [],
   "source": [
    "# Create new columns based on timestamp column\n",
    "df = df.withColumn(\"Hour_of_day\", from_unixtime(\"ts\", \"HH\"))\n",
    "df = df.withColumn('day_of_month',(from_unixtime(\"ts\", \"dd\")))"
   ]
  },
  {
   "cell_type": "code",
   "execution_count": 25,
   "metadata": {},
   "outputs": [],
   "source": [
    "# Drop columns that are unnecessary\n",
    "df = df.drop('firstName','lastName','method','status','registration','auth', 'location')"
   ]
  },
  {
   "cell_type": "code",
   "execution_count": 26,
   "metadata": {},
   "outputs": [
    {
     "name": "stdout",
     "output_type": "stream",
     "text": [
      "root\n",
      " |-- artist: string (nullable = true)\n",
      " |-- gender: string (nullable = true)\n",
      " |-- itemInSession: long (nullable = true)\n",
      " |-- length: double (nullable = true)\n",
      " |-- level: string (nullable = true)\n",
      " |-- page: string (nullable = true)\n",
      " |-- sessionId: long (nullable = true)\n",
      " |-- song: string (nullable = true)\n",
      " |-- ts: long (nullable = true)\n",
      " |-- userAgent: string (nullable = true)\n",
      " |-- userId: string (nullable = true)\n",
      " |-- Churn: long (nullable = true)\n",
      " |-- user_city: string (nullable = true)\n",
      " |-- user_state: string (nullable = true)\n",
      " |-- Hour_of_day: string (nullable = true)\n",
      " |-- day_of_month: string (nullable = true)\n",
      "\n"
     ]
    }
   ],
   "source": [
    "# Print updated schema\n",
    "df.printSchema()"
   ]
  },
  {
   "cell_type": "code",
   "execution_count": 27,
   "metadata": {},
   "outputs": [],
   "source": [
    "# Grouping Users by Session Id and Churn\n",
    "unique_sessions_by_id = ((df.groupBy('userId','Churn').agg(countDistinct('sessionId')).orderBy('userId')).toPandas())"
   ]
  },
  {
   "cell_type": "code",
   "execution_count": 28,
   "metadata": {},
   "outputs": [
    {
     "data": {
      "text/plain": [
       "array([<matplotlib.axes._subplots.AxesSubplot object at 0x11f943f40>,\n",
       "       <matplotlib.axes._subplots.AxesSubplot object at 0x11fac1430>],\n",
       "      dtype=object)"
      ]
     },
     "execution_count": 28,
     "metadata": {},
     "output_type": "execute_result"
    },
    {
     "data": {
      "image/png": "[encoded data removed]",
      "text/plain": [
       "<Figure size 432x288 with 2 Axes>"
      ]
     },
     "metadata": {
      "needs_background": "light"
     },
     "output_type": "display_data"
    }
   ],
   "source": [
    "unique_sessions_by_id['count(sessionId)'].hist(by =  unique_sessions_by_id['Churn'], bins = 15 )"
   ]
  },
  {
   "cell_type": "code",
   "execution_count": 29,
   "metadata": {},
   "outputs": [],
   "source": [
    "# Grouping Users by Average Song Length and Churn\n",
    "avg_length_songs_by_id = ((df.groupBy('userId','Churn').agg(avg('length')).orderBy('userId')).toPandas())"
   ]
  },
  {
   "cell_type": "code",
   "execution_count": 30,
   "metadata": {},
   "outputs": [
    {
     "data": {
      "text/plain": [
       "array([<matplotlib.axes._subplots.AxesSubplot object at 0x11f6c97f0>,\n",
       "       <matplotlib.axes._subplots.AxesSubplot object at 0x11fb8e100>],\n",
       "      dtype=object)"
      ]
     },
     "execution_count": 30,
     "metadata": {},
     "output_type": "execute_result"
    },
    {
     "data": {
      "image/png": "[encoded data removed]",
      "text/plain": [
       "<Figure size 432x288 with 2 Axes>"
      ]
     },
     "metadata": {
      "needs_background": "light"
     },
     "output_type": "display_data"
    }
   ],
   "source": [
    "avg_length_songs_by_id['avg(length)'].hist(by =  avg_length_songs_by_id['Churn'], bins = 15 )"
   ]
  },
  {
   "cell_type": "markdown",
   "metadata": {},
   "source": [
    "Non Churners seem to be listening more as seen in the histograms above"
   ]
  },
  {
   "cell_type": "code",
   "execution_count": 31,
   "metadata": {},
   "outputs": [],
   "source": [
    "# Grouping Users by Hour of Day and Churn\n",
    "hh_churn = df.groupBy('Hour_of_day','Churn').count().orderBy('Hour_of_day')"
   ]
  },
  {
   "cell_type": "code",
   "execution_count": 32,
   "metadata": {},
   "outputs": [],
   "source": [
    "# Grouping Users by Day of Month and Churn\n",
    "dom_churn = df.groupBy('day_of_month','Churn').count().orderBy('day_of_month')"
   ]
  },
  {
   "cell_type": "code",
   "execution_count": 33,
   "metadata": {},
   "outputs": [
    {
     "data": {
      "image/png": "[encoded data removed]",
      "text/plain": [
       "<Figure size 1440x576 with 1 Axes>"
      ]
     },
     "metadata": {
      "needs_background": "light"
     },
     "output_type": "display_data"
    }
   ],
   "source": [
    "plt.figure(figsize=(20,8))\n",
    "sns.barplot(x = 'Hour_of_day', y = 'count', hue = 'Churn', data = hh_churn.toPandas());"
   ]
  },
  {
   "cell_type": "code",
   "execution_count": 34,
   "metadata": {},
   "outputs": [
    {
     "data": {
      "image/png": "[encoded data removed]",
      "text/plain": [
       "<Figure size 1440x576 with 1 Axes>"
      ]
     },
     "metadata": {
      "needs_background": "light"
     },
     "output_type": "display_data"
    }
   ],
   "source": [
    "plt.figure(figsize=(20,8))\n",
    "sns.barplot(x = 'day_of_month', y = 'count', hue = 'Churn', data = dom_churn.toPandas());"
   ]
  },
  {
   "cell_type": "code",
   "execution_count": 35,
   "metadata": {},
   "outputs": [],
   "source": [
    "# Grouping Users by Unique Artists and Churn\n",
    "unique_artist_by_id = ((df.groupBy('userId','Churn').agg(countDistinct('artist')).orderBy('userId')).toPandas())"
   ]
  },
  {
   "cell_type": "code",
   "execution_count": 36,
   "metadata": {},
   "outputs": [
    {
     "data": {
      "text/plain": [
       "array([<matplotlib.axes._subplots.AxesSubplot object at 0x1202bbbe0>,\n",
       "       <matplotlib.axes._subplots.AxesSubplot object at 0x1205171c0>],\n",
       "      dtype=object)"
      ]
     },
     "execution_count": 36,
     "metadata": {},
     "output_type": "execute_result"
    },
    {
     "data": {
      "image/png": "[encoded data removed]",
      "text/plain": [
       "<Figure size 432x288 with 2 Axes>"
      ]
     },
     "metadata": {
      "needs_background": "light"
     },
     "output_type": "display_data"
    }
   ],
   "source": [
    "unique_artist_by_id['count(artist)'].hist(by =  unique_artist_by_id['Churn'] )"
   ]
  },
  {
   "cell_type": "markdown",
   "metadata": {},
   "source": [
    "Churners (1) tend to listen to fewer artists"
   ]
  },
  {
   "cell_type": "code",
   "execution_count": 37,
   "metadata": {},
   "outputs": [],
   "source": [
    "# Grouping Users by Unique songs and Churn\n",
    "unique_songs_by_id = ((df.groupBy('userId','Churn').agg(countDistinct('song')).orderBy('userId')).toPandas())"
   ]
  },
  {
   "cell_type": "code",
   "execution_count": 38,
   "metadata": {},
   "outputs": [
    {
     "data": {
      "text/plain": [
       "array([<matplotlib.axes._subplots.AxesSubplot object at 0x120597490>,\n",
       "       <matplotlib.axes._subplots.AxesSubplot object at 0x1205e4a00>],\n",
       "      dtype=object)"
      ]
     },
     "execution_count": 38,
     "metadata": {},
     "output_type": "execute_result"
    },
    {
     "data": {
      "image/png": "[encoded data removed]",
      "text/plain": [
       "<Figure size 432x288 with 2 Axes>"
      ]
     },
     "metadata": {
      "needs_background": "light"
     },
     "output_type": "display_data"
    }
   ],
   "source": [
    "unique_songs_by_id['count(song)'].hist(by =  unique_songs_by_id['Churn'] )"
   ]
  },
  {
   "cell_type": "markdown",
   "metadata": {},
   "source": [
    "No surprises when Churners (1) tend to listen to fewer songs"
   ]
  },
  {
   "cell_type": "code",
   "execution_count": 39,
   "metadata": {},
   "outputs": [],
   "source": [
    "# Grouping Users by Type of Page and Churn\n",
    "page_churn = df.groupBy('page', 'Churn').count().orderBy('count', ascending = False)"
   ]
  },
  {
   "cell_type": "code",
   "execution_count": 40,
   "metadata": {},
   "outputs": [
    {
     "data": {
      "image/png": "[encoded data removed]",
      "text/plain": [
       "<Figure size 720x720 with 1 Axes>"
      ]
     },
     "metadata": {
      "needs_background": "light"
     },
     "output_type": "display_data"
    }
   ],
   "source": [
    "plt.figure(figsize=(10,10))\n",
    "sns.barplot(x = 'count', y = 'page', hue = 'Churn', data = page_churn.toPandas(), orient='h');"
   ]
  },
  {
   "cell_type": "code",
   "execution_count": 41,
   "metadata": {},
   "outputs": [],
   "source": [
    "#Splitting userAent to get Device Type\n",
    "df = df.withColumn(\"_tmp\", pyspark.sql.functions.split(\"userAgent\", \"\\\\;\").getItem(0))\n",
    "df = df.withColumn(\"tmp2\", pyspark.sql.functions.split(\"_tmp\", \"\\\\(\").getItem(1))\n",
    "df = df.withColumn(\"device_type\", pyspark.sql.functions.split(\"tmp2\", \"\\\\)\").getItem(0))\n",
    "df = df.drop('_tmp', 'tmp2', 'userAgent')"
   ]
  },
  {
   "cell_type": "code",
   "execution_count": 42,
   "metadata": {},
   "outputs": [],
   "source": [
    "device_churn =  df.groupBy('device_type', 'Churn').count().orderBy('count', ascending = False)"
   ]
  },
  {
   "cell_type": "code",
   "execution_count": 43,
   "metadata": {},
   "outputs": [
    {
     "data": {
      "image/png": "[encoded data removed]",
      "text/plain": [
       "<Figure size 720x360 with 1 Axes>"
      ]
     },
     "metadata": {
      "needs_background": "light"
     },
     "output_type": "display_data"
    }
   ],
   "source": [
    "plt.figure(figsize=(10,5))\n",
    "sns.barplot(x = 'count', y = 'device_type', hue = 'Churn', data = device_churn.toPandas(), orient='h');"
   ]
  },
  {
   "cell_type": "markdown",
   "metadata": {},
   "source": [
    "\n",
    "# Feature Engineering\n",
    "Once you've familiarized yourself with the data, build out the features you find promising to train your model on. To work with the full dataset, you can follow the following steps.\n",
    "- Write a script to extract the necessary features from the smaller subset of data\n",
    "- Ensure that your script is scalable, using the best practices discussed in Lesson 3\n",
    "- Try your script on the full data set, debugging your script if necessary\n",
    "\n",
    "If you are working in the classroom workspace, you can just extract features based on the small subset of data contained here. Be sure to transfer over this work to the larger dataset when you work on your Spark cluster."
   ]
  },
  {
   "cell_type": "markdown",
   "metadata": {},
   "source": [
    "The features that I am creating include:\n",
    "    1. No of unique sessions per user\n",
    "    2. Activity during AM Hours\n",
    "    3. Activity during PM Hours\n",
    "    4. Average song length\n",
    "    5. Longest session by the user\n",
    "    6. User State\n",
    "    7. User City\n",
    "    8. No. of Next Song events\n",
    "    9. No. of Thumbs up counts\n",
    "    10. No of Thumbs Down counts\n",
    "    11. No of Playlist added events\n",
    "    12. No of friend added events\n",
    "    13. Downgrade evnts per user\n",
    "    14. Acivity during first half of the month\n",
    "    15. Activity during second half of the month\n",
    "    16. Home Click count\n",
    "    17. Type of Device"
   ]
  },
  {
   "cell_type": "code",
   "execution_count": 44,
   "metadata": {},
   "outputs": [
    {
     "name": "stdout",
     "output_type": "stream",
     "text": [
      "root\n",
      " |-- artist: string (nullable = true)\n",
      " |-- gender: string (nullable = true)\n",
      " |-- itemInSession: long (nullable = true)\n",
      " |-- length: double (nullable = true)\n",
      " |-- level: string (nullable = true)\n",
      " |-- page: string (nullable = true)\n",
      " |-- sessionId: long (nullable = true)\n",
      " |-- song: string (nullable = true)\n",
      " |-- ts: long (nullable = true)\n",
      " |-- userId: string (nullable = true)\n",
      " |-- Churn: long (nullable = true)\n",
      " |-- user_city: string (nullable = true)\n",
      " |-- user_state: string (nullable = true)\n",
      " |-- Hour_of_day: string (nullable = true)\n",
      " |-- day_of_month: string (nullable = true)\n",
      " |-- device_type: string (nullable = true)\n",
      "\n"
     ]
    }
   ],
   "source": [
    "# Print Schema\n",
    "df.printSchema()"
   ]
  },
  {
   "cell_type": "code",
   "execution_count": 47,
   "metadata": {},
   "outputs": [],
   "source": [
    "# Engineering new features as defined above\n",
    "\n",
    "final_df = ((df.groupBy('userId','Churn','gender','user_city','user_state', 'device_type')\n",
    "       .agg(countDistinct('sessionId').alias('unique_sess'),\n",
    "        count(when(col(\"Hour_of_day\") >= 12,1)).alias('PM_count'),\n",
    "        count(when(col(\"Hour_of_day\") < 12,1)).alias('AM_count'),\n",
    "        count(when(col(\"day_of_month\") < 15,1)).alias('first_half_month'),\n",
    "        count(when(col(\"day_of_month\") >= 15,1)).alias('second_half_month'),\n",
    "        avg('length').alias('avg_song_length'), \n",
    "        max('itemInSession').alias('longest_sess'),\n",
    "        count(when(col(\"page\") == 'NextSong',1)).alias('next_song_count'),\n",
    "        count(when(col(\"page\") == 'Thumbs Up',1)).alias('thumbs_up_count'),\n",
    "        count(when(col(\"page\") == 'Thumbs Down',1)).alias('thumbs_down_count'),\n",
    "        count(when(col(\"page\") == 'Add to Playlist',1)).alias('playlist_added_count'),\n",
    "        count(when(col(\"page\") == 'Add Friend',1)).alias('friend_added_count'),\n",
    "        count(when(col(\"page\") == 'Downgrade',1)).alias('Downgrade_count'),\n",
    "        count(when(col(\"page\") == 'Home',1)).alias('home_click_count'),\n",
    "        count(when(col(\"page\") == 'Roll Advert',1)).alias('roll_advert_count'),\n",
    "        )\n",
    "       .orderBy('userId')))\n",
    "\n"
   ]
  },
  {
   "cell_type": "code",
   "execution_count": 48,
   "metadata": {},
   "outputs": [
    {
     "name": "stdout",
     "output_type": "stream",
     "text": [
      "root\n",
      " |-- userId: string (nullable = true)\n",
      " |-- Churn: long (nullable = true)\n",
      " |-- gender: string (nullable = true)\n",
      " |-- user_city: string (nullable = true)\n",
      " |-- user_state: string (nullable = true)\n",
      " |-- device_type: string (nullable = true)\n",
      " |-- unique_sess: long (nullable = false)\n",
      " |-- PM_count: long (nullable = false)\n",
      " |-- AM_count: long (nullable = false)\n",
      " |-- first_half_month: long (nullable = false)\n",
      " |-- second_half_month: long (nullable = false)\n",
      " |-- avg_song_length: double (nullable = true)\n",
      " |-- longest_sess: long (nullable = true)\n",
      " |-- next_song_count: long (nullable = false)\n",
      " |-- thumbs_up_count: long (nullable = false)\n",
      " |-- thumbs_down_count: long (nullable = false)\n",
      " |-- playlist_added_count: long (nullable = false)\n",
      " |-- friend_added_count: long (nullable = false)\n",
      " |-- Downgrade_count: long (nullable = false)\n",
      " |-- home_click_count: long (nullable = false)\n",
      " |-- roll_advert_count: long (nullable = false)\n",
      "\n"
     ]
    }
   ],
   "source": [
    "# Print Schema for new features\n",
    "final_df.printSchema()"
   ]
  },
  {
   "cell_type": "code",
   "execution_count": 49,
   "metadata": {},
   "outputs": [
    {
     "name": "stdout",
     "output_type": "stream",
     "text": [
      "     userId  Churn gender                              user_city user_state  \\\n",
      "0        10      0      M                                 Laurel         MS   \n",
      "1       100      0      M            Dallas-Fort Worth-Arlington         TX   \n",
      "2    100001      1      F  Miami-Fort Lauderdale-West Palm Beach         FL   \n",
      "3    100002      0      F              Santa Maria-Santa Barbara         CA   \n",
      "4    100003      1      F  Miami-Fort Lauderdale-West Palm Beach         FL   \n",
      "..      ...    ...    ...                                    ...        ...   \n",
      "220      95      0      F                Phoenix-Mesa-Scottsdale         AZ   \n",
      "221      96      0      F                Atlantic City-Hammonton         NJ   \n",
      "222      97      0      F       Riverside-San Bernardino-Ontario         CA   \n",
      "223      98      0      M       Houston-The Woodlands-Sugar Land         TX   \n",
      "224      99      0      F                      New Haven-Milford         CT   \n",
      "\n",
      "        device_type  unique_sess  PM_count  AM_count  first_half_month  ...  \\\n",
      "0         Macintosh            6       403       392               361  ...   \n",
      "1    Windows NT 6.1           35      1632      1582              1473  ...   \n",
      "2         Macintosh            4        96        91                87  ...   \n",
      "3    Windows NT 6.1            4       112       106                97  ...   \n",
      "4    Windows NT 6.1            2        33        45                38  ...   \n",
      "..              ...          ...       ...       ...               ...  ...   \n",
      "220       Macintosh           33      1036      1055               957  ...   \n",
      "221       Macintosh           19      1076      1100               995  ...   \n",
      "222  Windows NT 5.1           30      1203      1201              1120  ...   \n",
      "223       Macintosh           28      1434      1457              1312  ...   \n",
      "224  Windows NT 6.1           11       319       295               274  ...   \n",
      "\n",
      "     avg_song_length  longest_sess  next_song_count  thumbs_up_count  \\\n",
      "0         247.944090           456              673               37   \n",
      "1         250.886598           312             2682              148   \n",
      "2         263.712347            70              133                8   \n",
      "3         254.153426           189              195                5   \n",
      "4         241.302340            81               51                3   \n",
      "..               ...           ...              ...              ...   \n",
      "220       252.146131           322             1694               91   \n",
      "221       251.105648           609             1802               92   \n",
      "222       248.724808           506             1975              108   \n",
      "223       254.769670           507             2401              115   \n",
      "224       253.223532           148              505               27   \n",
      "\n",
      "     thumbs_down_count  playlist_added_count  friend_added_count  \\\n",
      "0                    4                     9                  12   \n",
      "1                   27                    61                  49   \n",
      "2                    2                     3                   2   \n",
      "3                    0                     5                   1   \n",
      "4                    0                     2                   0   \n",
      "..                 ...                   ...                 ...   \n",
      "220                 25                    46                  32   \n",
      "221                 24                    52                  40   \n",
      "222                 12                    61                  32   \n",
      "223                 22                    58                  45   \n",
      "224                  5                    11                  12   \n",
      "\n",
      "     Downgrade_count  home_click_count  roll_advert_count  \n",
      "0                  7                30                  1  \n",
      "1                 30               105                 25  \n",
      "2                  0                11                 14  \n",
      "3                  2                 6                  3  \n",
      "4                  0                 7                  9  \n",
      "..               ...               ...                ...  \n",
      "220               15                67                 50  \n",
      "221               20                71                 17  \n",
      "222               17               100                 24  \n",
      "223               25               115                 30  \n",
      "224                2                24                 10  \n",
      "\n",
      "[225 rows x 21 columns]\n"
     ]
    }
   ],
   "source": [
    "print(final_df.toPandas())"
   ]
  },
  {
   "cell_type": "markdown",
   "metadata": {},
   "source": [
    "# Modeling\n",
    "Split the full dataset into train, test, and validation sets. Test out several of the machine learning methods you learned. Evaluate the accuracy of the various models, tuning parameters as necessary. Determine your winning model based on test accuracy and report results on the validation set. Since the churned users are a fairly small subset, I suggest using F1 score as the metric to optimize."
   ]
  },
  {
   "cell_type": "code",
   "execution_count": 50,
   "metadata": {},
   "outputs": [],
   "source": [
    "# Counting no of rows(users)\n",
    "cols_final = list(final_df.columns)\n",
    "cols_count = final_df.count()"
   ]
  },
  {
   "cell_type": "code",
   "execution_count": 51,
   "metadata": {},
   "outputs": [
    {
     "name": "stdout",
     "output_type": "stream",
     "text": [
      "Missing count and percentages:\n",
      "+----+----------------------+-----------------+------------------+\n",
      "|    | col_name             |   missing_count |   missing_percen |\n",
      "|----+----------------------+-----------------+------------------|\n",
      "|  0 | userId               |               0 |                0 |\n",
      "|  1 | Churn                |               0 |                0 |\n",
      "|  2 | gender               |               0 |                0 |\n",
      "|  3 | user_city            |               0 |                0 |\n",
      "|  4 | user_state           |               0 |                0 |\n",
      "|  5 | device_type          |               0 |                0 |\n",
      "|  6 | unique_sess          |               0 |                0 |\n",
      "|  7 | PM_count             |               0 |                0 |\n",
      "|  8 | AM_count             |               0 |                0 |\n",
      "|  9 | first_half_month     |               0 |                0 |\n",
      "| 10 | second_half_month    |               0 |                0 |\n",
      "| 11 | avg_song_length      |               0 |                0 |\n",
      "| 12 | longest_sess         |               0 |                0 |\n",
      "| 13 | next_song_count      |               0 |                0 |\n",
      "| 14 | thumbs_up_count      |               0 |                0 |\n",
      "| 15 | thumbs_down_count    |               0 |                0 |\n",
      "| 16 | playlist_added_count |               0 |                0 |\n",
      "| 17 | friend_added_count   |               0 |                0 |\n",
      "| 18 | Downgrade_count      |               0 |                0 |\n",
      "| 19 | home_click_count     |               0 |                0 |\n",
      "| 20 | roll_advert_count    |               0 |                0 |\n",
      "+----+----------------------+-----------------+------------------+\n"
     ]
    },
    {
     "data": {
      "text/plain": [
       "DataFrame[col_name: string, missing_count: bigint, missing_percen: double]"
      ]
     },
     "execution_count": 51,
     "metadata": {},
     "output_type": "execute_result"
    }
   ],
   "source": [
    "# Checking missing values for new dataframe\n",
    "missing_perc(final_df, cols_final, cols_count)"
   ]
  },
  {
   "cell_type": "code",
   "execution_count": 52,
   "metadata": {},
   "outputs": [],
   "source": [
    "# Setting up various columns\n",
    "id_cols = ['userId']\n",
    "cat_cols = ['gender','user_city','user_state']\n",
    "num_cols = ['unique_sess','PM_count','AM_count','first_half_month','second_half_month','avg_song_length',\n",
    "           'longest_sess','next_song_count','thumbs_up_count','thumbs_down_count','playlist_added_count',\n",
    "           'friend_added_count','Downgrade_count','home_click_count','roll_advert_count']"
   ]
  },
  {
   "cell_type": "code",
   "execution_count": 53,
   "metadata": {},
   "outputs": [],
   "source": [
    "# Converting column datatypes to Double\n",
    "for col in num_cols + ['Churn']:\n",
    "    final_df = final_df.withColumn(col, final_df[col].cast(types.DoubleType()))"
   ]
  },
  {
   "cell_type": "code",
   "execution_count": 54,
   "metadata": {},
   "outputs": [
    {
     "name": "stdout",
     "output_type": "stream",
     "text": [
      "root\n",
      " |-- userId: string (nullable = true)\n",
      " |-- Churn: double (nullable = true)\n",
      " |-- gender: string (nullable = true)\n",
      " |-- user_city: string (nullable = true)\n",
      " |-- user_state: string (nullable = true)\n",
      " |-- device_type: string (nullable = true)\n",
      " |-- unique_sess: double (nullable = false)\n",
      " |-- PM_count: double (nullable = false)\n",
      " |-- AM_count: double (nullable = false)\n",
      " |-- first_half_month: double (nullable = false)\n",
      " |-- second_half_month: double (nullable = false)\n",
      " |-- avg_song_length: double (nullable = true)\n",
      " |-- longest_sess: double (nullable = true)\n",
      " |-- next_song_count: double (nullable = false)\n",
      " |-- thumbs_up_count: double (nullable = false)\n",
      " |-- thumbs_down_count: double (nullable = false)\n",
      " |-- playlist_added_count: double (nullable = false)\n",
      " |-- friend_added_count: double (nullable = false)\n",
      " |-- Downgrade_count: double (nullable = false)\n",
      " |-- home_click_count: double (nullable = false)\n",
      " |-- roll_advert_count: double (nullable = false)\n",
      "\n"
     ]
    }
   ],
   "source": [
    "# Print Schema\n",
    "final_df.printSchema()"
   ]
  },
  {
   "cell_type": "code",
   "execution_count": 55,
   "metadata": {},
   "outputs": [],
   "source": [
    "# Setup pipeline\n",
    "features_t = {}\n",
    "features_pipe = {}\n",
    "def feature_setup(col, es):\n",
    "    pipe = Pipeline(stages=es)\n",
    "    features_pipe[col] = pipe.fit(final_df.select(final_df[col]))"
   ]
  },
  {
   "cell_type": "code",
   "execution_count": 56,
   "metadata": {},
   "outputs": [],
   "source": [
    "# String Indexing and One Hot Encoding of Features,a long with Threading\n",
    "for col in cat_cols:\n",
    "    indexer = StringIndexer(inputCol=col, outputCol= col + '_index')\n",
    "    ohe_encoder = OneHotEncoder(dropLast=True, inputCol= col + '_index', outputCol=col+'_ohe')\n",
    "    features_t[col] = threading.Thread(target=feature_setup, args=[col, [indexer, ohe_encoder]])\n",
    "    features_t[col].start()\n",
    "    \n",
    "for col in cat_cols: \n",
    "    features_t[col].join()"
   ]
  },
  {
   "cell_type": "code",
   "execution_count": 57,
   "metadata": {},
   "outputs": [],
   "source": [
    "# Creating a Vector Assembler of features and Scaling the features\n",
    "vector_inputs = [col + '_ohe' for col in cat_cols] + num_cols\n",
    "vector_assembler_features = VectorAssembler(inputCols=vector_inputs, outputCol='features_vector')\n",
    "scaler = StandardScaler(inputCol='features_vector', outputCol='features')"
   ]
  },
  {
   "cell_type": "code",
   "execution_count": 58,
   "metadata": {},
   "outputs": [],
   "source": [
    "# Transformation Pipeline i.e. applying previous steps on data\n",
    "feature_transformation = Pipeline(stages=list(features_pipe.values()) + \n",
    "                                  [vector_assembler_features,scaler]) \\\n",
    "            .fit(final_df.select(num_cols + cat_cols))"
   ]
  },
  {
   "cell_type": "code",
   "execution_count": 59,
   "metadata": {},
   "outputs": [],
   "source": [
    "# Label of features\n",
    "feature_labels = spark.sparkContext.parallelize( \\\n",
    "            [[col, m.stages[0].labels] for col, m in features_pipe.items()] \\\n",
    "            ).toDF(['Name_of_Feature', 'Value_of_feature'])"
   ]
  },
  {
   "cell_type": "code",
   "execution_count": 60,
   "metadata": {},
   "outputs": [
    {
     "name": "stdout",
     "output_type": "stream",
     "text": [
      "+---------------+--------------------+\n",
      "|Name_of_Feature|    Value_of_feature|\n",
      "+---------------+--------------------+\n",
      "|     user_state|[ CA,  TX,  NY-NJ...|\n",
      "|      user_city|[Los Angeles-Long...|\n",
      "|         gender|              [M, F]|\n",
      "+---------------+--------------------+\n",
      "\n"
     ]
    }
   ],
   "source": [
    "feature_labels.show()"
   ]
  },
  {
   "cell_type": "code",
   "execution_count": 61,
   "metadata": {},
   "outputs": [],
   "source": [
    "def feature_transformation_fn(df, feature_transformation):\n",
    "    '''\n",
    "    INPUT:\n",
    "    df - (spark dataframe) Dataframe containing new engineered features\n",
    "    feature_transformation (pipeline) - Transformation pipeline\n",
    "    \n",
    "    OUTPUT:\n",
    "    final_transformed - (spark dataframe) Transformed spark dataframe\n",
    "    '''\n",
    "    feature_labels = {}\n",
    "    for stage in feature_transformation.stages:\n",
    "        if isinstance(stage, PipelineModel) and len(stage.stages) > 0:\n",
    "            stageInner = stage.stages[0]\n",
    "            if isinstance(stageInner, StringIndexerModel):\n",
    "                inputCol = stageInner.extractParamMap()[stageInner.getParam('inputCol')]\n",
    "                ip_labels = stageInner.labels\n",
    "                outputCol = stageInner.extractParamMap()[stageInner.getParam('outputCol')]\n",
    "                feature_labels[inputCol]=ip_labels\n",
    "\n",
    "    if len(feature_labels) > 0:\n",
    "        def not_seen(labels):\n",
    "            return f.udf(lambda col_value: col_value if col_value in labels else labels[0])\n",
    "\n",
    "        not_seen_l = {}\n",
    "        for col in df.columns:\n",
    "            if col in num_cols: \n",
    "                not_seen_l[col] = df[col]\n",
    "            elif col in cat_cols: \n",
    "                not_seen_l[col] = not_seen(feature_labels[col])(df[col]).alias(col)\n",
    "        n_unseen = df.select(id_cols + list(not_seen_l.values()) + ['Churn'])\n",
    "    else:\n",
    "        n_unseen = df\n",
    "\n",
    "    # Transform data\n",
    "    final_transformed = feature_transformation.transform(n_unseen)\n",
    "\n",
    "    return final_transformed"
   ]
  },
  {
   "cell_type": "code",
   "execution_count": 62,
   "metadata": {},
   "outputs": [],
   "source": [
    "# Get the transformed dataframe\n",
    "transformed_df = feature_transformation_fn(final_df, feature_transformation)"
   ]
  },
  {
   "cell_type": "code",
   "execution_count": 63,
   "metadata": {},
   "outputs": [],
   "source": [
    "#Split the data into train, validation and test set in the ratio 0.8:0.1:0.1\n",
    "train_df, validation_df, test_df = transformed_df.randomSplit([0.7,0.1,0.1], 42)"
   ]
  },
  {
   "cell_type": "markdown",
   "metadata": {},
   "source": [
    "### ALGO 1: RANDOM FORSEST CLASSIFIER"
   ]
  },
  {
   "cell_type": "code",
   "execution_count": 64,
   "metadata": {},
   "outputs": [],
   "source": [
    "# Defining Random Forest Classifier\n",
    "rfc_classifier = RandomForestClassifier(maxDepth=3, labelCol='Churn', featuresCol='features', seed=42)"
   ]
  },
  {
   "cell_type": "code",
   "execution_count": 65,
   "metadata": {},
   "outputs": [],
   "source": [
    "# Setting up the parameter grid and Evaluator\n",
    "param_grid = ParamGridBuilder() \\\n",
    "        .addGrid(rfc_classifier.numTrees,[3,4,5]) \\\n",
    "        .addGrid(rfc_classifier.maxDepth, [4,5,6]) \\\n",
    "        .addGrid(rfc_classifier.maxBins, [5,6,7]) \\\n",
    "        .build()\n",
    "\n",
    "evaluator = BinaryClassificationEvaluator( \\\n",
    "          rawPredictionCol = \"prediction\"\n",
    "          ,labelCol = 'Churn' \\\n",
    "          ,metricName = 'areaUnderROC')"
   ]
  },
  {
   "cell_type": "code",
   "execution_count": 66,
   "metadata": {},
   "outputs": [],
   "source": [
    "# Setting up the cross validator\n",
    "cross_validator = CrossValidator( \\\n",
    "          estimatorParamMaps = param_grid \\\n",
    "          ,estimator = rfc_classifier \\\n",
    "          ,evaluator = evaluator \\\n",
    "          ,numFolds = 4 )"
   ]
  },
  {
   "cell_type": "code",
   "execution_count": 67,
   "metadata": {},
   "outputs": [],
   "source": [
    "# Run the cross validated pipeline and choose the best model\n",
    "pipeline_model = Pipeline(stages=[cross_validator]).fit(train_df)\n",
    "cv_model = pipeline_model.stages[0]\n",
    "model = cv_model.bestModel"
   ]
  },
  {
   "cell_type": "code",
   "execution_count": 68,
   "metadata": {},
   "outputs": [
    {
     "name": "stdout",
     "output_type": "stream",
     "text": [
      "   Number of Trees  Max Depth  Max Bins\n",
      "0                4          4         6\n"
     ]
    }
   ],
   "source": [
    "# Print Optimal Parameters\n",
    "optimal_params = pd.DataFrame({\n",
    "          'Number of Trees': [model.getNumTrees]\n",
    "          ,'Max Depth': [model.getMaxDepth()]\n",
    "          ,'Max Bins': [model.getMaxBins()]\n",
    "          })\n",
    "print(optimal_params)"
   ]
  },
  {
   "cell_type": "code",
   "execution_count": 69,
   "metadata": {},
   "outputs": [],
   "source": [
    "def metric_fn(df, model, data_type):\n",
    "    '''\n",
    "    INPUT:\n",
    "    df - (spark dataframe) input dataframe for which we need metrics\n",
    "    model - (model) The actual trained model\n",
    "    data_type - (text) Can be Train, Validation, Test wtc.\n",
    "    \n",
    "    OUTPUT:\n",
    "    none\n",
    "    '''\n",
    "    transformed_df = model.transform(df)\n",
    "    results = transformed_df.select(['prediction', 'Churn'])\n",
    "    predictionAndLabels=results.rdd\n",
    "    metrics = MulticlassMetrics(predictionAndLabels)\n",
    "    cm=metrics.confusionMatrix().toArray()\n",
    "    accuracy=(cm[0][0]+cm[1][1])/cm.sum()\n",
    "    precision=(cm[0][0])/(cm[0][0]+cm[1][0])\n",
    "    recall=(cm[0][0])/(cm[0][0]+cm[0][1])\n",
    "    f1_s = (2 * precision * recall)/(precision + recall)\n",
    "    print(data_type + ' METRICS')\n",
    "    print('Confusion Matrix: \\n',cm )\n",
    "    print('Area under ROC:' ,evaluator.evaluate(transformed_df, {evaluator.metricName: \"areaUnderROC\"}))\n",
    "    print('Accuracy: ',accuracy)\n",
    "    print('Precision: ',precision)\n",
    "    print('Recall: ',recall)\n",
    "    print('F1 Score: ',f1_s)\n",
    "    #return cm, accuracy, precision, recall, f1_s"
   ]
  },
  {
   "cell_type": "code",
   "execution_count": 70,
   "metadata": {},
   "outputs": [
    {
     "name": "stdout",
     "output_type": "stream",
     "text": [
      "TRAIN METRICS\n",
      "Confusion Matrix: \n",
      " [[142.   0.]\n",
      " [ 34.   2.]]\n",
      "Area under ROC: 0.5277777777777778\n",
      "Accuracy:  0.8089887640449438\n",
      "Precision:  0.8068181818181818\n",
      "Recall:  1.0\n",
      "F1 Score:  0.8930817610062893\n"
     ]
    }
   ],
   "source": [
    "# Metrics on Training Set\n",
    "metric_fn(train_df, model, 'TRAIN')"
   ]
  },
  {
   "cell_type": "code",
   "execution_count": 71,
   "metadata": {},
   "outputs": [
    {
     "name": "stdout",
     "output_type": "stream",
     "text": [
      "VALIDATION METRICS\n",
      "Confusion Matrix: \n",
      " [[16.  0.]\n",
      " [ 9.  0.]]\n",
      "Area under ROC: 0.5\n",
      "Accuracy:  0.64\n",
      "Precision:  0.64\n",
      "Recall:  1.0\n",
      "F1 Score:  0.7804878048780487\n"
     ]
    }
   ],
   "source": [
    "# Metrics on Validation Set\n",
    "metric_fn(validation_df, model, 'VALIDATION')"
   ]
  },
  {
   "cell_type": "code",
   "execution_count": 72,
   "metadata": {},
   "outputs": [
    {
     "name": "stdout",
     "output_type": "stream",
     "text": [
      "TEST METRICS\n",
      "Confusion Matrix: \n",
      " [[15.  0.]\n",
      " [ 7.  0.]]\n",
      "Area under ROC: 0.5\n",
      "Accuracy:  0.6818181818181818\n",
      "Precision:  0.6818181818181818\n",
      "Recall:  1.0\n",
      "F1 Score:  0.8108108108108109\n"
     ]
    }
   ],
   "source": [
    "# Metrics on Test Set\n",
    "metric_fn(test_df, model, 'TEST')"
   ]
  },
  {
   "cell_type": "markdown",
   "metadata": {},
   "source": [
    "### ALGO 2: DECISION TREE CLASSIFIER"
   ]
  },
  {
   "cell_type": "code",
   "execution_count": 73,
   "metadata": {},
   "outputs": [],
   "source": [
    "# Defining Decision Tree Classifier\n",
    "from pyspark.ml.classification import DecisionTreeClassifier\n",
    "dc_classifier = DecisionTreeClassifier(maxDepth=3, labelCol='Churn', featuresCol='features', seed=42)"
   ]
  },
  {
   "cell_type": "code",
   "execution_count": 74,
   "metadata": {},
   "outputs": [],
   "source": [
    "# Setting up the parameter grid and Evaluator\n",
    "param_grid_2 = ParamGridBuilder() \\\n",
    "        .addGrid(dc_classifier.maxDepth, [3,4,5]) \\\n",
    "        .addGrid(dc_classifier.maxBins, [30,40,50]) \\\n",
    "        .build()"
   ]
  },
  {
   "cell_type": "code",
   "execution_count": 75,
   "metadata": {},
   "outputs": [],
   "source": [
    "# Setting up the cross validator\n",
    "cross_validator_2 = CrossValidator( \\\n",
    "          estimatorParamMaps = param_grid_2 \\\n",
    "          ,estimator = dc_classifier \\\n",
    "          ,evaluator = evaluator \\\n",
    "          ,numFolds = 4 )"
   ]
  },
  {
   "cell_type": "code",
   "execution_count": 76,
   "metadata": {},
   "outputs": [],
   "source": [
    "# Run the cross validated pipeline and choose the best model\n",
    "pipeline_model_2 = Pipeline(stages=[cross_validator_2]).fit(train_df)\n",
    "cv_model_2 = pipeline_model_2.stages[0]\n",
    "model_2 = cv_model_2.bestModel"
   ]
  },
  {
   "cell_type": "code",
   "execution_count": 77,
   "metadata": {},
   "outputs": [
    {
     "name": "stdout",
     "output_type": "stream",
     "text": [
      "   Max Depth  Max Bins\n",
      "0          3        40\n"
     ]
    }
   ],
   "source": [
    "# Print Optimal Parameters\n",
    "optimal_params_2 = pd.DataFrame({\n",
    "          'Max Depth': [model_2.getMaxDepth()]\n",
    "          ,'Max Bins': [model_2.getMaxBins()]\n",
    "          })\n",
    "print(optimal_params_2)"
   ]
  },
  {
   "cell_type": "code",
   "execution_count": 78,
   "metadata": {},
   "outputs": [
    {
     "name": "stdout",
     "output_type": "stream",
     "text": [
      "TRAIN METRICS\n",
      "Confusion Matrix: \n",
      " [[141.   1.]\n",
      " [ 25.  11.]]\n",
      "Area under ROC: 0.6492566510172144\n",
      "Accuracy:  0.8539325842696629\n",
      "Precision:  0.8493975903614458\n",
      "Recall:  0.9929577464788732\n",
      "F1 Score:  0.9155844155844155\n"
     ]
    }
   ],
   "source": [
    "# Metrics on Training Set\n",
    "metric_fn(train_df, model_2, 'TRAIN')"
   ]
  },
  {
   "cell_type": "code",
   "execution_count": 79,
   "metadata": {},
   "outputs": [
    {
     "name": "stdout",
     "output_type": "stream",
     "text": [
      "VALIDATION METRICS\n",
      "Confusion Matrix: \n",
      " [[16.  0.]\n",
      " [ 8.  1.]]\n",
      "Area under ROC: 0.5555555555555556\n",
      "Accuracy:  0.68\n",
      "Precision:  0.6666666666666666\n",
      "Recall:  1.0\n",
      "F1 Score:  0.8\n"
     ]
    }
   ],
   "source": [
    "# Metrics on Validation Set\n",
    "metric_fn(validation_df, model_2, 'VALIDATION')"
   ]
  },
  {
   "cell_type": "code",
   "execution_count": 80,
   "metadata": {},
   "outputs": [
    {
     "name": "stdout",
     "output_type": "stream",
     "text": [
      "TEST METRICS\n",
      "Confusion Matrix: \n",
      " [[13.  2.]\n",
      " [ 6.  1.]]\n",
      "Area under ROC: 0.5047619047619047\n",
      "Accuracy:  0.6363636363636364\n",
      "Precision:  0.6842105263157895\n",
      "Recall:  0.8666666666666667\n",
      "F1 Score:  0.7647058823529413\n"
     ]
    }
   ],
   "source": [
    "# Metrics on Test Set\n",
    "metric_fn(test_df, model_2, 'TEST')"
   ]
  },
  {
   "cell_type": "markdown",
   "metadata": {},
   "source": [
    "# Final Steps\n",
    "Clean up your code, adding comments and renaming variables to make the code easier to read and maintain. Refer to the Spark Project Overview page and Data Scientist Capstone Project Rubric to make sure you are including all components of the capstone project and meet all expectations. Remember, this includes thorough documentation in a README file in a Github repository, as well as a web app or blog post."
   ]
  }
 ],
 "metadata": {
  "kernelspec": {
   "display_name": "Python 3",
   "language": "python",
   "name": "python3"
  },
  "language_info": {
   "codemirror_mode": {
    "name": "ipython",
    "version": 3
   },
   "file_extension": ".py",
   "mimetype": "text/x-python",
   "name": "python",
   "nbconvert_exporter": "python",
   "pygments_lexer": "ipython3",
   "version": "3.8.3"
  }
 },
 "nbformat": 4,
 "nbformat_minor": 2
}
